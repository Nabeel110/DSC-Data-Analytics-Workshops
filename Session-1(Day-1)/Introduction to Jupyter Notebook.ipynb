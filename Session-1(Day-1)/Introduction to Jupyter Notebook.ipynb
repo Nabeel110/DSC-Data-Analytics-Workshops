{
 "cells": [
  {
   "cell_type": "markdown",
   "metadata": {},
   "source": [
    "# Understanding Jupyter Notebook Interface\n",
    "- Print \"Hello World\"\n",
    "- How to run code\n",
    "- Navigating around Jupyter notebook\n",
    "- Playing a Random Guessing Game"
   ]
  },
  {
   "cell_type": "code",
   "execution_count": 1,
   "metadata": {},
   "outputs": [
    {
     "name": "stdout",
     "output_type": "stream",
     "text": [
      "\t\t\t\t\t\t\t Guessing Game\t\t\n",
      "\t\t\t\t\t\t\tBy Nabeel Ahmed\n",
      "Enter a number in 1 to 100 inclusive: 56\n",
      "Too Low! Chose Larger number.\n",
      "Enter a number in 1 to 100 inclusive: 78\n",
      "Too Low! Chose Larger number.\n",
      "Enter a number in 1 to 100 inclusive: 82\n",
      "Too High! Chose smaller number.\n",
      "Enter a number in 1 to 100 inclusive: 92\n",
      "Too High! Chose smaller number.\n",
      "Enter a number in 1 to 100 inclusive: 80\n",
      "Congratulations! You have guessed the number 80 correctly!\n"
     ]
    }
   ],
   "source": [
    "import random\n",
    "magic_num = random.randint(1,101)\n",
    "print('\\t\\t\\t\\t\\t\\t\\t Guessing Game\\t\\t')\n",
    "print('\\t\\t\\t\\t\\t\\t\\tBy Nabeel Ahmed')\n",
    "while True:\n",
    "    user_input = int(input('Enter a number in 1 to 100 inclusive: '))\n",
    "    if user_input > magic_num:\n",
    "        print('Too High! Chose smaller number.')\n",
    "        continue\n",
    "    elif user_input < magic_num:\n",
    "        print('Too Low! Chose Larger number.')\n",
    "        continue\n",
    "    else:\n",
    "        print('Congratulations! You have guessed the number {} correctly!'.format(magic_num))\n",
    "        break"
   ]
  },
  {
   "cell_type": "markdown",
   "metadata": {},
   "source": [
    "## What if I wannt to quit game in the middle, when I get exhausted? Can I do that?\n",
    "\n",
    "### Yes! Definietly you can. With slight modification in code you can make the code work as you want it to be.\n",
    "\n",
    "# Can YOU Modify this code? "
   ]
  },
  {
   "cell_type": "code",
   "execution_count": 2,
   "metadata": {},
   "outputs": [
    {
     "ename": "NameError",
     "evalue": "name 'prnt' is not defined",
     "output_type": "error",
     "traceback": [
      "\u001b[1;31m---------------------------------------------------------------------------\u001b[0m",
      "\u001b[1;31mNameError\u001b[0m                                 Traceback (most recent call last)",
      "\u001b[1;32m<ipython-input-2-8bb93dddb257>\u001b[0m in \u001b[0;36m<module>\u001b[1;34m\u001b[0m\n\u001b[1;32m----> 1\u001b[1;33m \u001b[0mprnt\u001b[0m\u001b[1;33m(\u001b[0m\u001b[1;34m\"djhf\"\u001b[0m\u001b[1;33m)\u001b[0m\u001b[1;33m\u001b[0m\u001b[1;33m\u001b[0m\u001b[0m\n\u001b[0m",
      "\u001b[1;31mNameError\u001b[0m: name 'prnt' is not defined"
     ]
    }
   ],
   "source": [
    "prnt(\"djhf\")"
   ]
  },
  {
   "cell_type": "code",
   "execution_count": null,
   "metadata": {},
   "outputs": [],
   "source": [
    "import random\n",
    "magic_num = random.randint(1,101)\n",
    "print('\\t\\t\\t\\t\\t\\t\\t Guessing Game\\t\\t')\n",
    "print('\\t\\t\\t\\t\\t\\t\\tBy Nabeel Ahmed')\n",
    "while True:\n",
    "    user_input = int(input('Enter a number in 1 to 100 inclusive: '))\n",
    "    if user_input == -1:\n"
    "        break\n"
    "    if user_input > magic_num:\n",
    "        print('Too High! Chose smaller number.')\n",
    "        continue\n",
    "    elif user_input < magic_num:\n",
    "        print('Too Low! Chose Larger number.')\n",
    "        continue\n",
    "    else:\n",
    "        print('Congratulations! You have guessed the number {} correctly!'.format(magic_num))\n",
    "        break"
    
   ]
  }
 ],
 "metadata": {
  "kernelspec": {
   "display_name": "Python 3",
   "language": "python",
   "name": "python3"
  },
  "language_info": {
   "codemirror_mode": {
    "name": "ipython",
    "version": 3
   },
   "file_extension": ".py",
   "mimetype": "text/x-python",
   "name": "python",
   "nbconvert_exporter": "python",
   "pygments_lexer": "ipython3",
   "version": "3.7.6"
  }
 },
 "nbformat": 4,
 "nbformat_minor": 4
}
